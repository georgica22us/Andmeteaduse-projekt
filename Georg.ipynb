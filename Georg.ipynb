{
 "cells": [
  {
   "cell_type": "code",
   "execution_count": 42,
   "metadata": {},
   "outputs": [],
   "source": [
    "#Georg's notebook\n",
    "import pandas as pd\n",
    "import numpy as np\n",
    "pd.options.mode.chained_assignment = None  # default='warn'\n",
    "import matplotlib.pyplot as plt\n",
    "import seaborn as sns"
   ]
  },
  {
   "cell_type": "code",
   "execution_count": 29,
   "metadata": {},
   "outputs": [],
   "source": [
    "data = pd.read_csv(\"red_wine.csv\")"
   ]
  },
  {
   "cell_type": "code",
   "execution_count": 30,
   "metadata": {},
   "outputs": [
    {
     "data": {
      "text/html": [
       "<div>\n",
       "<style scoped>\n",
       "    .dataframe tbody tr th:only-of-type {\n",
       "        vertical-align: middle;\n",
       "    }\n",
       "\n",
       "    .dataframe tbody tr th {\n",
       "        vertical-align: top;\n",
       "    }\n",
       "\n",
       "    .dataframe thead th {\n",
       "        text-align: right;\n",
       "    }\n",
       "</style>\n",
       "<table border=\"1\" class=\"dataframe\">\n",
       "  <thead>\n",
       "    <tr style=\"text-align: right;\">\n",
       "      <th></th>\n",
       "      <th>fixed acidity</th>\n",
       "      <th>volatile acidity</th>\n",
       "      <th>citric acid</th>\n",
       "      <th>residual sugar</th>\n",
       "      <th>chlorides</th>\n",
       "      <th>free sulfur dioxide</th>\n",
       "      <th>total sulfur dioxide</th>\n",
       "      <th>density</th>\n",
       "      <th>pH</th>\n",
       "      <th>sulphates</th>\n",
       "      <th>alcohol</th>\n",
       "      <th>quality</th>\n",
       "    </tr>\n",
       "  </thead>\n",
       "  <tbody>\n",
       "    <tr>\n",
       "      <th>0</th>\n",
       "      <td>7.4</td>\n",
       "      <td>0.700</td>\n",
       "      <td>0.00</td>\n",
       "      <td>1.9</td>\n",
       "      <td>0.076</td>\n",
       "      <td>11.0</td>\n",
       "      <td>34.0</td>\n",
       "      <td>0.99780</td>\n",
       "      <td>3.51</td>\n",
       "      <td>0.56</td>\n",
       "      <td>9.4</td>\n",
       "      <td>5</td>\n",
       "    </tr>\n",
       "    <tr>\n",
       "      <th>1</th>\n",
       "      <td>7.8</td>\n",
       "      <td>0.880</td>\n",
       "      <td>0.00</td>\n",
       "      <td>2.6</td>\n",
       "      <td>0.098</td>\n",
       "      <td>25.0</td>\n",
       "      <td>67.0</td>\n",
       "      <td>0.99680</td>\n",
       "      <td>3.20</td>\n",
       "      <td>0.68</td>\n",
       "      <td>9.8</td>\n",
       "      <td>5</td>\n",
       "    </tr>\n",
       "    <tr>\n",
       "      <th>2</th>\n",
       "      <td>7.8</td>\n",
       "      <td>0.760</td>\n",
       "      <td>0.04</td>\n",
       "      <td>2.3</td>\n",
       "      <td>0.092</td>\n",
       "      <td>15.0</td>\n",
       "      <td>54.0</td>\n",
       "      <td>0.99700</td>\n",
       "      <td>3.26</td>\n",
       "      <td>0.65</td>\n",
       "      <td>9.8</td>\n",
       "      <td>5</td>\n",
       "    </tr>\n",
       "    <tr>\n",
       "      <th>3</th>\n",
       "      <td>11.2</td>\n",
       "      <td>0.280</td>\n",
       "      <td>0.56</td>\n",
       "      <td>1.9</td>\n",
       "      <td>0.075</td>\n",
       "      <td>17.0</td>\n",
       "      <td>60.0</td>\n",
       "      <td>0.99800</td>\n",
       "      <td>3.16</td>\n",
       "      <td>0.58</td>\n",
       "      <td>9.8</td>\n",
       "      <td>6</td>\n",
       "    </tr>\n",
       "    <tr>\n",
       "      <th>4</th>\n",
       "      <td>7.4</td>\n",
       "      <td>0.700</td>\n",
       "      <td>0.00</td>\n",
       "      <td>1.9</td>\n",
       "      <td>0.076</td>\n",
       "      <td>11.0</td>\n",
       "      <td>34.0</td>\n",
       "      <td>0.99780</td>\n",
       "      <td>3.51</td>\n",
       "      <td>0.56</td>\n",
       "      <td>9.4</td>\n",
       "      <td>5</td>\n",
       "    </tr>\n",
       "    <tr>\n",
       "      <th>...</th>\n",
       "      <td>...</td>\n",
       "      <td>...</td>\n",
       "      <td>...</td>\n",
       "      <td>...</td>\n",
       "      <td>...</td>\n",
       "      <td>...</td>\n",
       "      <td>...</td>\n",
       "      <td>...</td>\n",
       "      <td>...</td>\n",
       "      <td>...</td>\n",
       "      <td>...</td>\n",
       "      <td>...</td>\n",
       "    </tr>\n",
       "    <tr>\n",
       "      <th>1594</th>\n",
       "      <td>6.2</td>\n",
       "      <td>0.600</td>\n",
       "      <td>0.08</td>\n",
       "      <td>2.0</td>\n",
       "      <td>0.090</td>\n",
       "      <td>32.0</td>\n",
       "      <td>44.0</td>\n",
       "      <td>0.99490</td>\n",
       "      <td>3.45</td>\n",
       "      <td>0.58</td>\n",
       "      <td>10.5</td>\n",
       "      <td>5</td>\n",
       "    </tr>\n",
       "    <tr>\n",
       "      <th>1595</th>\n",
       "      <td>5.9</td>\n",
       "      <td>0.550</td>\n",
       "      <td>0.10</td>\n",
       "      <td>2.2</td>\n",
       "      <td>0.062</td>\n",
       "      <td>39.0</td>\n",
       "      <td>51.0</td>\n",
       "      <td>0.99512</td>\n",
       "      <td>3.52</td>\n",
       "      <td>0.76</td>\n",
       "      <td>11.2</td>\n",
       "      <td>6</td>\n",
       "    </tr>\n",
       "    <tr>\n",
       "      <th>1596</th>\n",
       "      <td>6.3</td>\n",
       "      <td>0.510</td>\n",
       "      <td>0.13</td>\n",
       "      <td>2.3</td>\n",
       "      <td>0.076</td>\n",
       "      <td>29.0</td>\n",
       "      <td>40.0</td>\n",
       "      <td>0.99574</td>\n",
       "      <td>3.42</td>\n",
       "      <td>0.75</td>\n",
       "      <td>11.0</td>\n",
       "      <td>6</td>\n",
       "    </tr>\n",
       "    <tr>\n",
       "      <th>1597</th>\n",
       "      <td>5.9</td>\n",
       "      <td>0.645</td>\n",
       "      <td>0.12</td>\n",
       "      <td>2.0</td>\n",
       "      <td>0.075</td>\n",
       "      <td>32.0</td>\n",
       "      <td>44.0</td>\n",
       "      <td>0.99547</td>\n",
       "      <td>3.57</td>\n",
       "      <td>0.71</td>\n",
       "      <td>10.2</td>\n",
       "      <td>5</td>\n",
       "    </tr>\n",
       "    <tr>\n",
       "      <th>1598</th>\n",
       "      <td>6.0</td>\n",
       "      <td>0.310</td>\n",
       "      <td>0.47</td>\n",
       "      <td>3.6</td>\n",
       "      <td>0.067</td>\n",
       "      <td>18.0</td>\n",
       "      <td>42.0</td>\n",
       "      <td>0.99549</td>\n",
       "      <td>3.39</td>\n",
       "      <td>0.66</td>\n",
       "      <td>11.0</td>\n",
       "      <td>6</td>\n",
       "    </tr>\n",
       "  </tbody>\n",
       "</table>\n",
       "<p>1599 rows × 12 columns</p>\n",
       "</div>"
      ],
      "text/plain": [
       "      fixed acidity  volatile acidity  citric acid  residual sugar  chlorides  \\\n",
       "0               7.4             0.700         0.00             1.9      0.076   \n",
       "1               7.8             0.880         0.00             2.6      0.098   \n",
       "2               7.8             0.760         0.04             2.3      0.092   \n",
       "3              11.2             0.280         0.56             1.9      0.075   \n",
       "4               7.4             0.700         0.00             1.9      0.076   \n",
       "...             ...               ...          ...             ...        ...   \n",
       "1594            6.2             0.600         0.08             2.0      0.090   \n",
       "1595            5.9             0.550         0.10             2.2      0.062   \n",
       "1596            6.3             0.510         0.13             2.3      0.076   \n",
       "1597            5.9             0.645         0.12             2.0      0.075   \n",
       "1598            6.0             0.310         0.47             3.6      0.067   \n",
       "\n",
       "      free sulfur dioxide  total sulfur dioxide  density    pH  sulphates  \\\n",
       "0                    11.0                  34.0  0.99780  3.51       0.56   \n",
       "1                    25.0                  67.0  0.99680  3.20       0.68   \n",
       "2                    15.0                  54.0  0.99700  3.26       0.65   \n",
       "3                    17.0                  60.0  0.99800  3.16       0.58   \n",
       "4                    11.0                  34.0  0.99780  3.51       0.56   \n",
       "...                   ...                   ...      ...   ...        ...   \n",
       "1594                 32.0                  44.0  0.99490  3.45       0.58   \n",
       "1595                 39.0                  51.0  0.99512  3.52       0.76   \n",
       "1596                 29.0                  40.0  0.99574  3.42       0.75   \n",
       "1597                 32.0                  44.0  0.99547  3.57       0.71   \n",
       "1598                 18.0                  42.0  0.99549  3.39       0.66   \n",
       "\n",
       "      alcohol  quality  \n",
       "0         9.4        5  \n",
       "1         9.8        5  \n",
       "2         9.8        5  \n",
       "3         9.8        6  \n",
       "4         9.4        5  \n",
       "...       ...      ...  \n",
       "1594     10.5        5  \n",
       "1595     11.2        6  \n",
       "1596     11.0        6  \n",
       "1597     10.2        5  \n",
       "1598     11.0        6  \n",
       "\n",
       "[1599 rows x 12 columns]"
      ]
     },
     "execution_count": 30,
     "metadata": {},
     "output_type": "execute_result"
    }
   ],
   "source": [
    "data"
   ]
  },
  {
   "cell_type": "code",
   "execution_count": 39,
   "metadata": {},
   "outputs": [
    {
     "data": {
      "text/plain": [
       "5    681\n",
       "6    638\n",
       "7    199\n",
       "4     53\n",
       "8     18\n",
       "3     10\n",
       "Name: quality, dtype: int64"
      ]
     },
     "execution_count": 39,
     "metadata": {},
     "output_type": "execute_result"
    }
   ],
   "source": [
    "data.quality.value_counts() #Siit näeme, et hided 5 ja 6 on kõige sagedasemad."
   ]
  },
  {
   "cell_type": "code",
   "execution_count": 32,
   "metadata": {},
   "outputs": [],
   "source": [
    "#Kogu dataseti korrelatsioonide analüüs:\n",
    "#Koopia:\n",
    "modded_data = data.copy()"
   ]
  },
  {
   "cell_type": "code",
   "execution_count": 33,
   "metadata": {},
   "outputs": [],
   "source": [
    "#Suvaliselt veergude väärtuste segamine\n",
    "for column in modded_data:\n",
    "    temp = modded_data[column]\n",
    "    np.random.shuffle(temp)\n",
    "    modded_data[column] = temp"
   ]
  },
  {
   "cell_type": "code",
   "execution_count": 21,
   "metadata": {},
   "outputs": [],
   "source": [
    "a = False #Siin osas leitakse suurimad korrelatsioonid, ning kuna 100 kordusega parima leidmine on aega võttev protsess, siis\n",
    "#olen selle hetkel mitte-töötama pannud. Siis printisin välja max_list ja võtsin sealt suurima korrelatsiooni, mis oli\n",
    "# 0.086253. See on significance threshold nüüd.\n",
    "if a:\n",
    "    \n",
    "    max_list = []\n",
    "    for i in range (100):\n",
    "        modded_data = data.copy()\n",
    "        for column in modded_data:\n",
    "            temp = modded_data[column]\n",
    "            np.random.shuffle(temp)\n",
    "            modded_data[column] = temp\n",
    "        corr = modded_data.iloc[:,0:12].corr().replace(1, np.NaN).abs()\n",
    "        for i in range(0,1): #https://stackoverflow.com/questions/49355681/calculating-pairwise-correlations-of-large-dataframe-among-a-certain-number-of-c\n",
    "            max_val = max(corr.max())\n",
    "            max_list.append((max_val, corr.columns[np.where(corr == max_val)[0][:]][0],\n",
    "            corr.columns[np.where(corr == max_val)[0][:]][1]))\n",
    "            corr.replace(max_val, np.NaN, inplace=True)"
   ]
  },
  {
   "cell_type": "code",
   "execution_count": 35,
   "metadata": {},
   "outputs": [],
   "source": [
    "oige_max = [] #Leiame, millised veerud on omavahel korrelatsioonis.\n",
    "oige_min = []\n",
    "corr = data.iloc[:,0:100].corr().replace(1, np.NaN).abs()\n",
    "for i in range(0, 20):\n",
    "    max_val = max(corr.max())\n",
    "    min_val = min(corr.max())\n",
    "    if max_val > 0.086253:\n",
    "        oige_max.append((max_val, corr.columns[np.where(corr == max_val)[0][:]][0],\n",
    "        corr.columns[np.where(corr == max_val)[0][:]][1]))\n",
    "        corr.replace(max_val, np.NaN, inplace=True)\n",
    "    else:\n",
    "        oige_min.append((min_val, corr.columns[np.where(corr == min_val)[0][:]][0],\n",
    "        corr.columns[np.where(corr == min_val)[0][:]][1]))\n",
    "        corr.replace(min_val, np.NaN, inplace=True)"
   ]
  },
  {
   "cell_type": "code",
   "execution_count": 37,
   "metadata": {},
   "outputs": [],
   "source": [
    "#Kõigil on korrelatsioon suurem kui significance value."
   ]
  },
  {
   "cell_type": "code",
   "execution_count": 43,
   "metadata": {},
   "outputs": [
    {
     "data": {
      "text/plain": [
       "<matplotlib.axes._subplots.AxesSubplot at 0x178f39b0310>"
      ]
     },
     "execution_count": 43,
     "metadata": {},
     "output_type": "execute_result"
    },
    {
     "data": {
      "image/png": "[encoded data removed]",
      "text/plain": [
       "<Figure size 432x288 with 1 Axes>"
      ]
     },
     "metadata": {
      "needs_background": "light"
     },
     "output_type": "display_data"
    }
   ],
   "source": [
    "#Alkoholisisalduse mõju kvaliteedile:\n",
    "x = data[\"alcohol\"]\n",
    "y = data[\"quality\"]\n",
    "sns.scatterplot(x,y)"
   ]
  },
  {
   "cell_type": "code",
   "execution_count": 49,
   "metadata": {},
   "outputs": [
    {
     "name": "stdout",
     "output_type": "stream",
     "text": [
      "3\n",
      "433\n",
      "547\n",
      "475\n",
      "118\n",
      "22\n",
      "1\n",
      "0\n"
     ]
    }
   ],
   "source": [
    "#Vaatan, kuidas on alkoholisisalduse järgi jaotused:\n",
    "A8_9=0\n",
    "A9_10=0\n",
    "A10_11=0\n",
    "A11_12=0\n",
    "A12_13=0\n",
    "A13_14=0\n",
    "A14_15=0\n",
    "A15_X=0\n",
    "for i in range(len(x)):\n",
    "    if x[i] <= 8.5:\n",
    "        A8_9 += 1\n",
    "    elif x[i] > 8.5 and x[i] <= 9.5:\n",
    "        A9_10 += 1\n",
    "    elif x[i] > 9.5 and x[i] <= 10.5:\n",
    "        A10_11 += 1\n",
    "    elif x[i] > 10.5 and x[i] <= 12:\n",
    "        A11_12 += 1\n",
    "    elif x[i] > 12 and x[i] <= 13:\n",
    "        A12_13 +=1\n",
    "    elif x[i] > 13 and x[i] <= 14:\n",
    "        A13_14 +=1\n",
    "    elif x[i] > 14 and x[i] <= 15:\n",
    "        A14_15 += 1\n",
    "    else:\n",
    "        A15_X += 1\n",
    "print(A8_9)\n",
    "print(A9_10)\n",
    "print(A10_11)\n",
    "print(A11_12)\n",
    "print(A12_13)\n",
    "print(A13_14)\n",
    "print(A14_15)\n",
    "print(A15_X)"
   ]
  },
  {
   "cell_type": "code",
   "execution_count": 53,
   "metadata": {},
   "outputs": [],
   "source": [
    "#Kategoriseerin alkoholisisalduse järgi vahemikesse, eelmise statistika järgi võtan nii, et esimene hulgad on nii:\n",
    "#Esimene - Madal - alkoholi sisaldus kuni 9.5%\n",
    "#Teine - Alkoholi sisaldus 9.5-10.5\n",
    "#Kolmas - Alkoholi sisaldus 10.5-12\n",
    "#Neljas - Kõrge - alkoholi sisaldus üle 12%\n",
    "Esimene_Kval = []\n",
    "Teine_Kval = []\n",
    "Kolmas_Kval = []\n",
    "Neljas_Kval = []\n",
    "for i in range(len(x)):\n",
    "    if x[i] <= 9.5:\n",
    "        Esimene_Kval.append(y[i])\n",
    "    elif x[i] > 9.5 and x[i] <= 10.5:\n",
    "        Teine_Kval.append(y[i])\n",
    "    elif x[i] > 10.5 and x[i] <= 12:\n",
    "        Kolmas_Kval.append(y[i])\n",
    "    else:\n",
    "        Neljas_Kval.append(y[i])\n",
    "        "
   ]
  },
  {
   "cell_type": "code",
   "execution_count": 56,
   "metadata": {},
   "outputs": [
    {
     "name": "stdout",
     "output_type": "stream",
     "text": [
      "Esimese hulga keskmine:5.256880733944954\n",
      "Teise hulga keskmine:5.453382084095064\n",
      "Kolmanda hulga keskmine:5.95578947368421\n",
      "Neljanda hulga keskmine:6.439716312056738\n"
     ]
    }
   ],
   "source": [
    "#Leian keskmise veini kvaliteedi nendes vahemikes\n",
    "def keskmine(a):\n",
    "    summa = 0\n",
    "    for i in range(len(a)):\n",
    "        summa += a[i]\n",
    "    return summa/len(a)\n",
    "print(\"Esimese hulga keskmine: \" + str(keskmine(Esimene_Kval)))\n",
    "print(\"Teise hulga keskmine: \" + str(keskmine(Teine_Kval)))\n",
    "print(\"Kolmanda hulga keskmine: \" + str(keskmine(Kolmas_Kval)))\n",
    "print(\"Neljanda hulga keskmine: \" + str(keskmine(Neljas_Kval)))"
   ]
  },
  {
   "cell_type": "code",
   "execution_count": 66,
   "metadata": {},
   "outputs": [
    {
     "data": {
      "image/png": "[encoded data removed]",
      "text/plain": [
       "<Figure size 864x504 with 1 Axes>"
      ]
     },
     "metadata": {
      "needs_background": "light"
     },
     "output_type": "display_data"
    }
   ],
   "source": [
    "abi_x = [\"Alcohol max 9.5%\", \"Alcohol 9.5%-10.5%\", \"Alcohol 10.5%-12%\", \"Alcohol over 12%\"]\n",
    "abi_y = [keskmine(Esimene_Kval), keskmine(Teine_Kval), keskmine(Kolmas_Kval), keskmine(Neljas_Kval)]\n",
    "plt.figure(figsize = (12,7))\n",
    "plt.bar(abi_x, abi_y)\n",
    "plt.title(\"Impact on average wine quality in different alcohol percentage wines\")\n",
    "plt.xlabel(\"Alcohol percentage\")\n",
    "plt.ylabel(\"Average wine quality\")\n",
    "plt.show()"
   ]
  },
  {
   "cell_type": "code",
   "execution_count": 69,
   "metadata": {},
   "outputs": [],
   "source": [
    "#Edasi teen nii, et kui veini hinne on 3 või 4, ütleme, et see on halb,\n",
    "#Hinne 5,6 on keskmine\n",
    "#Hinne 7 on hea\n",
    "#Hinne 8 on super\n",
    "#Sellega hindame iga alkoholi protsendi kategooriat eraldi ja selle kohta tulevad eraldi plotid\n",
    "def jagunemine(a):\n",
    "    Halb = 0\n",
    "    Keskmine = 0\n",
    "    Hea = 0\n",
    "    Super = 0\n",
    "    Tulemus = []\n",
    "    for i in range (len(a)):\n",
    "        if a[i] == 3 or a[i] == 4:\n",
    "            Halb += 1\n",
    "        elif a[i] == 5 or a[i] == 6:\n",
    "            Keskmine += 1\n",
    "        elif a[i] == 7:\n",
    "            Hea +=1\n",
    "        else:\n",
    "            Super +=1\n",
    "    Halb_prc = Halb/len(a)\n",
    "    Keskmine_prc = Keskmine/len(a)\n",
    "    Hea_prc = Hea/len(a)\n",
    "    Super_prc = Super/len(a)\n",
    "    Tulemus = [Halb_prc, Keskmine_prc, Hea_prc, Super_prc]\n",
    "    return Tulemus\n",
    "Jagunemine_Esimene = jagunemine(Esimene_Kval)\n",
    "Jagunemine_Teine = jagunemine(Teine_Kval)\n",
    "Jagunemine_Kolmas = jagunemine(Kolmas_Kval)\n",
    "Jagunemine_Neljas = jagunemine(Neljas_Kval)"
   ]
  },
  {
   "cell_type": "code",
   "execution_count": 70,
   "metadata": {},
   "outputs": [],
   "source": [
    "#Teen 4 ploti\n",
    "def barplot(X, Y, X_title, Y_title, Size1, Size2, Title):\n",
    "    plt.figure(figsize = (Size1, Size2))\n",
    "    plt.bar(X, Y)\n",
    "    plt.title(Title)\n",
    "    plt.xlabel(X_title)\n",
    "    plt.ylabel(Y_title)\n",
    "    plt.show()\n"
   ]
  },
  {
   "cell_type": "code",
   "execution_count": 73,
   "metadata": {},
   "outputs": [
    {
     "data": {
      "image/png": "[encoded data removed]",
      "text/plain": [
       "<Figure size 720x360 with 1 Axes>"
      ]
     },
     "metadata": {
      "needs_background": "light"
     },
     "output_type": "display_data"
    },
    {
     "data": {
      "image/png": "[encoded data removed]",
      "text/plain": [
       "<Figure size 720x360 with 1 Axes>"
      ]
     },
     "metadata": {
      "needs_background": "light"
     },
     "output_type": "display_data"
    },
    {
     "data": {
      "image/png": "[encoded data removed]",
      "text/plain": [
       "<Figure size 720x360 with 1 Axes>"
      ]
     },
     "metadata": {
      "needs_background": "light"
     },
     "output_type": "display_data"
    },
    {
     "data": {
      "image/png": "[encoded data removed]",
      "text/plain": [
       "<Figure size 720x360 with 1 Axes>"
      ]
     },
     "metadata": {
      "needs_background": "light"
     },
     "output_type": "display_data"
    }
   ],
   "source": [
    "abi = [\"Bad wine\", \"Average wine\", \"Good wine\", \"Superb wine\"]\n",
    "barplot(abi, Jagunemine_Esimene, \"Wine quality\", \"Percentage of all wines\", 10, 5, \"Analysis of wines with max alcohol percentage of 9.5%\")\n",
    "barplot(abi, Jagunemine_Teine, \"Wine quality\", \"Percentage of all wines\", 10, 5, \"Analysis of wines with alcohol percentage of 9.5%-10.5%\")\n",
    "barplot(abi, Jagunemine_Kolmas, \"Wine quality\", \"Percentage of all wines\", 10, 5, \"Analysis of wines with alcohol percentage of 10.5%-12%\")\n",
    "barplot(abi, Jagunemine_Neljas, \"Wine quality\", \"Percentage of all wines\", 10, 5, \"Analysis of wines with min alcohol percentage of 12%\")"
   ]
  },
  {
   "cell_type": "code",
   "execution_count": null,
   "metadata": {},
   "outputs": [],
   "source": []
  }
 ],
 "metadata": {
  "kernelspec": {
   "display_name": "Python 3",
   "language": "python",
   "name": "python3"
  },
  "language_info": {
   "codemirror_mode": {
    "name": "ipython",
    "version": 3
   },
   "file_extension": ".py",
   "mimetype": "text/x-python",
   "name": "python",
   "nbconvert_exporter": "python",
   "pygments_lexer": "ipython3",
   "version": "3.8.3"
  }
 },
 "nbformat": 4,
 "nbformat_minor": 4
}
